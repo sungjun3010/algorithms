{
 "cells": [
  {
   "cell_type": "code",
   "execution_count": 13,
   "metadata": {},
   "outputs": [
    {
     "name": "stdout",
     "output_type": "stream",
     "text": [
      "10 2\n",
      "<class 'int'>\n",
      "2\n",
      "5 6\n",
      "4\n"
     ]
    }
   ],
   "source": [
    "N,K = map(int,input().split())\n",
    "el = list(map(int,input().split()))\n",
    "\n",
    "fr = 1\n",
    "\n",
    "m_sum = 0\n",
    "for to in el:\n",
    "    m_sum += min(abs(fr-to),abs(N-to+fr))\n",
    "    for idx,tot in enumerate(el):\n",
    "        if tot >= to:\n",
    "            el[idx]-=1\n",
    "    N -= 1\n",
    "    fr = to\n",
    "print(m_sum)\n",
    "    \n",
    "    \n"
   ]
  },
  {
   "cell_type": "code",
   "execution_count": 23,
   "metadata": {},
   "outputs": [
    {
     "name": "stdout",
     "output_type": "stream",
     "text": [
      "0 32\n",
      "3 13\n",
      "28 25\n",
      "39 0\n",
      "42\n"
     ]
    }
   ],
   "source": [
    "lst = []\n",
    "for i in range(4):\n",
    "    lst.append(list(map(int,input().split())))\n",
    "\n",
    "cur_people = 0\n",
    "max_people = 0 \n",
    "for lt in lst:\n",
    "    tmp_people = cur_people+lt[1]-lt[0]\n",
    "    max_people = max(tmp_people,max_people)\n",
    "    cur_people = tmp_people                  \n",
    "print(max_people)\n",
    "                   \n",
    "\n",
    "            "
   ]
  },
  {
   "cell_type": "code",
   "execution_count": 29,
   "metadata": {},
   "outputs": [
    {
     "name": "stdout",
     "output_type": "stream",
     "text": [
      "60\n",
      "4\n"
     ]
    }
   ],
   "source": [
    "stick = int(input())\n",
    "sts = [64,32,16,8,4,2,1]\n",
    "\n",
    "cnt = 0\n",
    "\n",
    "for st in sts:\n",
    "    if st > stick:\n",
    "        continue\n",
    "    else:\n",
    "        stick-=st\n",
    "        cnt+=1\n",
    "print(cnt)\n",
    "\n",
    "\n",
    "    "
   ]
  },
  {
   "cell_type": "code",
   "execution_count": null,
   "metadata": {},
   "outputs": [],
   "source": []
  }
 ],
 "metadata": {
  "kernelspec": {
   "display_name": "Python 3",
   "language": "python",
   "name": "python3"
  },
  "language_info": {
   "codemirror_mode": {
    "name": "ipython",
    "version": 3
   },
   "file_extension": ".py",
   "mimetype": "text/x-python",
   "name": "python",
   "nbconvert_exporter": "python",
   "pygments_lexer": "ipython3",
   "version": "3.6.5"
  }
 },
 "nbformat": 4,
 "nbformat_minor": 2
}
