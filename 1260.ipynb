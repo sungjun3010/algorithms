{
 "cells": [
  {
   "cell_type": "code",
   "execution_count": 8,
   "metadata": {},
   "outputs": [
    {
     "name": "stdout",
     "output_type": "stream",
     "text": [
      "3 1 2 \n",
      "3 1 2 "
     ]
    }
   ],
   "source": [
    "from collections import defaultdict\n",
    "N, M, V = 5, 5, 3\n",
    "edges = [[5, 4], [5, 2], [1, 2], [3, 4], [3, 1]]\n",
    "visit_map = [False]*N\n",
    "dict_edge = defaultdict(set)\n",
    "for edge in edges:\n",
    "    dict_edge[edge[0]].add(edge[1])\n",
    "    dict_edge[edge[1]].add(edge[0])\n",
    "\n",
    "def BFS(vertex):\n",
    "    queue = []\n",
    "    if not visit_map[vertex-1]:\n",
    "        queue.append(vertex)\n",
    "        visit_map[vertex-1] = True\n",
    "    while len(queue) != 0:\n",
    "        dequeue = queue[0]\n",
    "        del queue[0]\n",
    "        print(dequeue, end=' ')\n",
    "        for neigh in list(dict_edge[dequeue]):\n",
    "            if not visit_map[neigh-1]:\n",
    "                queue.append(neigh)\n",
    "                visit_map[neigh-1] = True\n",
    "    \n",
    "def DFS(vertex):\n",
    "    print(vertex,end=' ')\n",
    "    visit_map[vertex-1] = True\n",
    "    for neigh in list(dict_edge[vertex]):\n",
    "        if not visit_map[neigh-1]:\n",
    "            DFS(neigh)\n",
    "\n",
    "DFS(V)\n",
    "print()\n",
    "visit_map = [False]*N\n",
    "BFS(V)"
   ]
  },
  {
   "cell_type": "code",
   "execution_count": 9,
   "metadata": {},
   "outputs": [
    {
     "name": "stdout",
     "output_type": "stream",
     "text": [
      "5 5 3\n",
      "5 4\n",
      "5 2\n",
      "1 2\n",
      "3 4\n",
      "3 1\n",
      "3 4 5 2 1 \n",
      "3 4 1 5 2 "
     ]
    }
   ],
   "source": [
    "from collections import defaultdict\n",
    "\n",
    "N, M, V = list(map(int,input().split()))\n",
    "visit_map = [False]*N\n",
    "dict_edge = defaultdict(set)\n",
    "for _ in range(M):\n",
    "    i, j = map(int,input().split())\n",
    "    dict_edge[i].add(j)\n",
    "    dict_edge[j].add(i)\n",
    "\n",
    "for key in dict_edge.keys():\n",
    "    dict_edge[key] = sorted(list(dict_edge[key]))\n",
    "    \n",
    "def BFS(vertex):\n",
    "    queue = []\n",
    "    queue.append(vertex)\n",
    "    visit_map[vertex-1] = True\n",
    "    while len(queue) != 0:\n",
    "        dequeue = queue[0]\n",
    "        del queue[0]\n",
    "        print(dequeue, end=' ')\n",
    "        for neigh in dict_edge[dequeue]:\n",
    "            if not visit_map[neigh-1]:\n",
    "                queue.append(neigh)\n",
    "                visit_map[neigh-1] = True\n",
    "    \n",
    "def DFS(vertex):\n",
    "    print(vertex,end=' ')\n",
    "    visit_map[vertex-1] = True\n",
    "\n",
    "    for neigh in dict_edge[vertex]:\n",
    "        if not visit_map[neigh-1]:\n",
    "            DFS(neigh)\n",
    "\n",
    "DFS(V)\n",
    "print()\n",
    "visit_map = [False]*N\n",
    "BFS(V)"
   ]
  },
  {
   "cell_type": "code",
   "execution_count": 3,
   "metadata": {},
   "outputs": [],
   "source": [
    "d = {'a':['a'], 'n':['b']}"
   ]
  },
  {
   "cell_type": "code",
   "execution_count": 6,
   "metadata": {},
   "outputs": [
    {
     "name": "stdout",
     "output_type": "stream",
     "text": [
      "['a']\n",
      "['b']\n"
     ]
    }
   ],
   "source": [
    "for k in d.keys():\n",
    "    print(d[k])"
   ]
  },
  {
   "cell_type": "code",
   "execution_count": null,
   "metadata": {},
   "outputs": [],
   "source": []
  }
 ],
 "metadata": {
  "kernelspec": {
   "display_name": "tensorflow",
   "language": "python",
   "name": "tensorflowsj"
  },
  "language_info": {
   "codemirror_mode": {
    "name": "ipython",
    "version": 3
   },
   "file_extension": ".py",
   "mimetype": "text/x-python",
   "name": "python",
   "nbconvert_exporter": "python",
   "pygments_lexer": "ipython3",
   "version": "3.6.7"
  }
 },
 "nbformat": 4,
 "nbformat_minor": 2
}
