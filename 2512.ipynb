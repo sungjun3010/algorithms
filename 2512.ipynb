{
 "cells": [
  {
   "cell_type": "code",
   "execution_count": 27,
   "metadata": {},
   "outputs": [
    {
     "name": "stdout",
     "output_type": "stream",
     "text": [
      "4\n",
      "110 140 120 150\n",
      "485\n",
      "127\n"
     ]
    }
   ],
   "source": [
    "N = int(input())\n",
    "budget = list(map(int,input().split()))\n",
    "upper = int(input())\n",
    "\n",
    "budget.sort()\n",
    "    \n",
    "def binsearch(s, e, max_sum, max_value):\n",
    "    if max_sum == upper:\n",
    "        return max_value\n",
    "    if e-s < 1:\n",
    "        return -1\n",
    "    p = s+int((e-s)/2)\n",
    "    _sum = 0\n",
    "    for b in budget:\n",
    "        if b <= p:\n",
    "            _sum += b\n",
    "        else:\n",
    "            _sum += p\n",
    "    if _sum > upper:\n",
    "        max_value = max(max_value, binsearch(s, p, max_sum, max_value))\n",
    "    else:\n",
    "        if max_sum < _sum:\n",
    "            max_sum = _sum\n",
    "            max_value = p            \n",
    "        max_value = max(max_value, binsearch(p+1,e, max_sum, max_value))\n",
    "    \n",
    "    return max_value\n",
    "  \n",
    "if sum(budget) <= upper:\n",
    "    print(max(budget))\n",
    "else: \n",
    "    max_sum = 0\n",
    "    max_value = 0\n",
    "    mean = int(upper/N)\n",
    "    if mean <= min(budget):\n",
    "        print(mean)\n",
    "    else:\n",
    "        result = binsearch(budget[0], budget[-1],max_sum, max_value)\n",
    "        print(result)"
   ]
  },
  {
   "cell_type": "code",
   "execution_count": 11,
   "metadata": {},
   "outputs": [
    {
     "name": "stdout",
     "output_type": "stream",
     "text": [
      "1 2 3 4\n"
     ]
    }
   ],
   "source": [
    "budget = map(int, [b for b in input().split()])"
   ]
  },
  {
   "cell_type": "code",
   "execution_count": null,
   "metadata": {},
   "outputs": [],
   "source": []
  }
 ],
 "metadata": {
  "kernelspec": {
   "display_name": "Python 3",
   "language": "python",
   "name": "python3"
  },
  "language_info": {
   "codemirror_mode": {
    "name": "ipython",
    "version": 3
   },
   "file_extension": ".py",
   "mimetype": "text/x-python",
   "name": "python",
   "nbconvert_exporter": "python",
   "pygments_lexer": "ipython3",
   "version": "3.7.1"
  }
 },
 "nbformat": 4,
 "nbformat_minor": 2
}
