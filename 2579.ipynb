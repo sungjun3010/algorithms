{
 "cells": [
  {
   "cell_type": "code",
   "execution_count": 21,
   "metadata": {},
   "outputs": [
    {
     "name": "stdout",
     "output_type": "stream",
     "text": [
      "75\n"
     ]
    }
   ],
   "source": [
    "# n_steps = int(input())\n",
    "\n",
    "# step_points = [0]\n",
    "\n",
    "# for point in range(n_steps):\n",
    "#     step_points.append(int(input()))\n",
    "\n",
    "n_steps = 6\n",
    "step_points = [0, 10, 20, 15, 25, 10, 20]\n",
    "    \n",
    "cache = [[-1]*(n_steps+1) for _ in range(3)]\n",
    "\n",
    "def step(pos, c):\n",
    "    if pos == n_steps:\n",
    "        return step_points[pos]            \n",
    "    \n",
    "    ret = cache[c][pos]\n",
    "    \n",
    "    if ret != -1:\n",
    "        return ret\n",
    "    \n",
    "    if pos+1 <= n_steps:\n",
    "        if pos+2 <= n_steps:\n",
    "            if c == 2:\n",
    "                ret = step_points[pos] + step(pos+2, 1)\n",
    "            else:\n",
    "                ret = step_points[pos] + max(step(pos+1, c+1),step(pos+2, 1))         \n",
    "        else:\n",
    "            if c == 2:\n",
    "                ret = -3000000\n",
    "            else:\n",
    "                ret = step_points[pos] + step(pos+1, c+1)\n",
    "    cache[c][pos] = ret\n",
    "    return ret\n",
    "\n",
    "    \n",
    "print(step(0,0))"
   ]
  },
  {
   "cell_type": "code",
   "execution_count": 22,
   "metadata": {},
   "outputs": [
    {
     "data": {
      "text/plain": [
       "[[75, -1, -1, -1, -1, -1, -1],\n",
       " [-1, 75, 65, 60, 45, 30, -1],\n",
       " [-1, -1, 65, 45, 45, -3000000, -1]]"
      ]
     },
     "execution_count": 22,
     "metadata": {},
     "output_type": "execute_result"
    }
   ],
   "source": [
    "cache"
   ]
  },
  {
   "cell_type": "code",
   "execution_count": null,
   "metadata": {},
   "outputs": [],
   "source": []
  }
 ],
 "metadata": {
  "kernelspec": {
   "display_name": "Python 3",
   "language": "python",
   "name": "python3"
  },
  "language_info": {
   "codemirror_mode": {
    "name": "ipython",
    "version": 3
   },
   "file_extension": ".py",
   "mimetype": "text/x-python",
   "name": "python",
   "nbconvert_exporter": "python",
   "pygments_lexer": "ipython3",
   "version": "3.6.5"
  }
 },
 "nbformat": 4,
 "nbformat_minor": 2
}
