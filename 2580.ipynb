{
 "cells": [
  {
   "cell_type": "markdown",
   "metadata": {},
   "source": [
    "- 문제를 보고 DFS 또는 backtracking 사용이 필요한 것을 파악하는 건 당연하다. 다만 이론 처럼 실제 stack을 구현해서 사용하지 않아도 recursive한 방법으로 해결할 수 있을 때도 있다. 시간이 오래걸리는 (candidate 검사) 부분을 파악하여 효율적으로 구현하는 것이 중요!  "
   ]
  },
  {
   "cell_type": "code",
   "execution_count": 45,
   "metadata": {
    "scrolled": false
   },
   "outputs": [
    {
     "name": "stdout",
     "output_type": "stream",
     "text": [
      "3 0 0 0 0 9 1 7 8\n",
      "0 0 6 1 5 0 9 4 0\n",
      "0 9 1 3 0 0 6 5 0\n",
      "9 0 0 0 0 5 0 2 0\n",
      "6 0 0 2 4 0 5 0 0\n",
      "0 0 4 0 0 0 3 0 0\n",
      "0 7 0 0 8 6 2 0 0\n",
      "1 6 0 4 0 7 8 9 0\n",
      "5 0 0 0 0 2 4 0 7\n",
      "\n",
      "[(0, 1, [2, 4, 5]), (0, 2, [2, 5]), (1, 0, [8, 2, 7]), (1, 1, [8, 2]), (1, 8, [2, 3]), (2, 0, [8, 2, 4, 7]), (3, 1, [8, 1, 3]), (3, 2, [8, 3, 7]), (3, 3, [8, 7]), (3, 4, [1, 3, 6]), (3, 8, [1, 4, 6]), (4, 1, [8, 1, 3]), (4, 2, [8, 3, 7]), (4, 5, [1, 3]), (4, 7, [8, 1]), (4, 8, [1, 9]), (5, 0, [8, 2, 7]), (5, 1, [8, 1, 2, 5]), (5, 3, [8, 9, 7]), (5, 4, [1, 6, 9]), (5, 7, [8, 6]), (5, 8, [9, 6]), (6, 2, [9, 3]), (6, 3, [9, 5]), (6, 7, [1, 3]), (6, 8, [1, 3, 5]), (7, 2, [2, 3]), (8, 1, [8, 3]), (8, 2, [8, 9, 3]), (8, 7, [3, 6])]\n",
      "\n",
      "3 0 0 6 2 9 1 7 8 \n",
      "0 0 6 1 5 8 9 4 0 \n",
      "0 9 1 3 7 4 6 5 2 \n",
      "9 0 0 0 0 5 7 2 0 \n",
      "6 0 0 2 4 0 5 0 0 \n",
      "0 0 4 0 0 1 3 0 0 \n",
      "4 7 0 0 8 6 2 0 0 \n",
      "1 6 0 4 3 7 8 9 5 \n",
      "5 0 0 9 1 2 4 0 7 \n"
     ]
    }
   ],
   "source": [
    "maze=[list(map(int,input().split()))for _ in range(9)]\n",
    "xset=[[False]*10 for _ in range(9)]\n",
    "yset=[[False]*10 for _ in range(9)]\n",
    "nine=[[False]*10 for _ in range(9)]\n",
    "get=[[i//3*3+j//3 for j in range(9)]for i in range(9)]\n",
    "empty=[]\n",
    "for i in range(9):\n",
    "    for j in range(9):\n",
    "        if maze[i][j]==0:\n",
    "            empty.append((i,j))\n",
    "        else:\n",
    "            xset[i][maze[i][j]]=True\n",
    "            yset[j][maze[i][j]]=True\n",
    "            nine[get[i][j]][maze[i][j]]=True\n",
    "\n",
    "def solution(c):\n",
    "    if len(empty)==c:\n",
    "        [print(*maze[i]) for i in range(9)]\n",
    "        exit()\n",
    "    i,j=empty[c]\n",
    "    for candidate in range(1,10):\n",
    "        if xset[i][candidate] or yset[j][candidate] or nine[get[i][j]][candidate]:continue\n",
    "        maze[i][j]=candidate\n",
    "        xset[i][candidate]=yset[j][candidate]=nine[get[i][j]][candidate]=True\n",
    "        solution(c+1)\n",
    "        xset[i][candidate]=yset[j][candidate]=nine[get[i][j]][candidate]=False\n",
    "\n",
    "solution(0)\n"
   ]
  }
 ],
 "metadata": {
  "kernelspec": {
   "display_name": "Python 3",
   "language": "python",
   "name": "python3"
  },
  "language_info": {
   "codemirror_mode": {
    "name": "ipython",
    "version": 3
   },
   "file_extension": ".py",
   "mimetype": "text/x-python",
   "name": "python",
   "nbconvert_exporter": "python",
   "pygments_lexer": "ipython3",
   "version": "3.6.5"
  }
 },
 "nbformat": 4,
 "nbformat_minor": 2
}
