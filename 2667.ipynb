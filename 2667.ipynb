{
 "cells": [
  {
   "cell_type": "markdown",
   "metadata": {},
   "source": [
    "## Test"
   ]
  },
  {
   "cell_type": "code",
   "execution_count": 19,
   "metadata": {},
   "outputs": [
    {
     "name": "stdout",
     "output_type": "stream",
     "text": [
      "3\n",
      "7\n",
      "8\n",
      "9\n"
     ]
    }
   ],
   "source": [
    "N = 7\n",
    "test_map = [[0,1,1,0,1,0,0],\n",
    "            [0,1,1,0,1,0,1],\n",
    "            [1,1,1,0,1,0,1],\n",
    "            [0,0,0,0,1,1,1],\n",
    "            [0,1,0,0,0,0,0],\n",
    "            [0,1,1,1,1,1,0],\n",
    "            [0,1,1,1,0,0,0]]\n",
    "\n",
    "visited = [[0]*N for _ in range(N)]\n",
    "\n",
    "dangi_list = []\n",
    "\n",
    "def find_dangi(i,j, num_house):\n",
    "    if i>=N or i<0 or j>=N or j<0: return num_house\n",
    "    if test_map[i][j] == 1 and visited[i][j] == 0:\n",
    "        visited[i][j] = 1\n",
    "        num_house += 1\n",
    "    else: return num_house\n",
    "    \n",
    "    num_house = find_dangi(i+1,j,num_house)\n",
    "    num_house = find_dangi(i-1,j,num_house)\n",
    "    num_house = find_dangi(i,j+1,num_house)\n",
    "    num_house = find_dangi(i,j-1,num_house)\n",
    "    \n",
    "    return num_house\n",
    "\n",
    "for i in range(N):\n",
    "    for j in range(N):\n",
    "        if test_map[i][j]==1 and visited[i][j]==0:#DFS시작\n",
    "            dangi_list.append(find_dangi(i,j,0))\n",
    "\n",
    "print(len(dangi_list))\n",
    "dangi_list.sort()\n",
    "for num in dangi_list:\n",
    "    print(num)\n",
    "            \n",
    "            \n",
    "\n"
   ]
  },
  {
   "cell_type": "markdown",
   "metadata": {},
   "source": [
    "## Submission"
   ]
  },
  {
   "cell_type": "code",
   "execution_count": 33,
   "metadata": {},
   "outputs": [
    {
     "name": "stdout",
     "output_type": "stream",
     "text": [
      "7\n",
      "0110100\n",
      "0110101\n",
      "1110101\n",
      "0000111\n",
      "0100000\n",
      "0111110\n",
      "0111000\n",
      "[[0, 1, 1, 0, 1, 0, 0], [0, 1, 1, 0, 1, 0, 1], [1, 1, 1, 0, 1, 0, 1], [0, 0, 0, 0, 1, 1, 1], [0, 1, 0, 0, 0, 0, 0], [0, 1, 1, 1, 1, 1, 0], [0, 1, 1, 1, 0, 0, 0]]\n",
      "3\n",
      "7\n",
      "8\n",
      "9\n"
     ]
    }
   ],
   "source": [
    "N = int(input())\n",
    "test_map = []\n",
    "for i in range(N):\n",
    "    inp = [int(i) for i in input()]\n",
    "    test_map.append(inp)\n",
    "\n",
    "visited = [[0]*N for _ in range(N)]\n",
    "\n",
    "dangi_list = []\n",
    "\n",
    "def find_dangi(i,j, num_house):\n",
    "    if i>=N or i<0 or j>=N or j<0: return num_house\n",
    "    if test_map[i][j] == 1 and visited[i][j] == 0:\n",
    "        visited[i][j] = 1\n",
    "        num_house += 1\n",
    "    else: return num_house\n",
    "    \n",
    "    num_house = find_dangi(i+1,j,num_house)\n",
    "    num_house = find_dangi(i-1,j,num_house)\n",
    "    num_house = find_dangi(i,j+1,num_house)\n",
    "    num_house = find_dangi(i,j-1,num_house)\n",
    "    \n",
    "    return num_house\n",
    "\n",
    "for i in range(N):\n",
    "    for j in range(N):\n",
    "        if test_map[i][j]==1 and visited[i][j]==0:#DFS시작\n",
    "            dangi_list.append(find_dangi(i,j,0))\n",
    "\n",
    "print(len(dangi_list))\n",
    "dangi_list.sort()\n",
    "for num in dangi_list:\n",
    "    print(num)"
   ]
  }
 ],
 "metadata": {
  "kernelspec": {
   "display_name": "Python 3",
   "language": "python",
   "name": "python3"
  },
  "language_info": {
   "codemirror_mode": {
    "name": "ipython",
    "version": 3
   },
   "file_extension": ".py",
   "mimetype": "text/x-python",
   "name": "python",
   "nbconvert_exporter": "python",
   "pygments_lexer": "ipython3",
   "version": "3.6.5"
  }
 },
 "nbformat": 4,
 "nbformat_minor": 2
}
