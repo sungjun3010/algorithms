{
 "cells": [
  {
   "cell_type": "code",
   "execution_count": 35,
   "metadata": {},
   "outputs": [
    {
     "name": "stdout",
     "output_type": "stream",
     "text": [
      "3\n",
      "4\n",
      "7\n",
      "7\n",
      "44\n",
      "10\n",
      "274\n"
     ]
    }
   ],
   "source": [
    "num_cases = int(input())\n",
    "\n",
    "def dp(n):\n",
    "    if n == 1:\n",
    "        cache[n-1] = 1\n",
    "        return 1\n",
    "    if n == 2:\n",
    "        cache[n-1] = 2\n",
    "        return 2\n",
    "    if n == 3:\n",
    "        cache[n-1] = 3\n",
    "        return 4\n",
    "    else:\n",
    "        if cache[n-2] == -1:\n",
    "            cache[n-2] = dp(n-1)\n",
    "        if cache[n-3] == -1:\n",
    "            cache[n-3] = dp(n-2)\n",
    "        if cache[n-4] == -1:\n",
    "            cache[n-4] = dp(n-3)\n",
    "        cache[n-1] = cache[n-2] + cache[n-3] + cache[n-4]\n",
    "        return cache[n-1]     \n",
    "    \n",
    "\n",
    "for case in range(num_cases):\n",
    "    n = int(input())\n",
    "    \n",
    "    cache = [-1]*n\n",
    "    \n",
    "    dp(n)\n",
    "    \n",
    "    print(cache[n-1])"
   ]
  },
  {
   "cell_type": "code",
   "execution_count": null,
   "metadata": {},
   "outputs": [],
   "source": []
  },
  {
   "cell_type": "code",
   "execution_count": null,
   "metadata": {},
   "outputs": [],
   "source": []
  },
  {
   "cell_type": "code",
   "execution_count": 34,
   "metadata": {},
   "outputs": [
    {
     "name": "stdout",
     "output_type": "stream",
     "text": [
      "[1, 2, 4, 7, 13, 24, 44, 81, 149, 274]\n"
     ]
    }
   ],
   "source": [
    "n = 10\n",
    "\n",
    "cache = [-1]*n\n",
    "\n",
    "def dp(n):\n",
    "    if n == 1:\n",
    "        cache[n-1] = 1\n",
    "        return 1\n",
    "    if n == 2:\n",
    "        cache[n-1] = 2\n",
    "        return 2\n",
    "    if n == 3:\n",
    "        cache[n-1] = 3\n",
    "        return 4\n",
    "    else:\n",
    "        if cache[n-2] == -1:\n",
    "            cache[n-2] = dp(n-1)\n",
    "        if cache[n-3] == -1:\n",
    "            cache[n-3] = dp(n-2)\n",
    "        if cache[n-4] == -1:\n",
    "            cache[n-4] = dp(n-3)\n",
    "        cache[n-1] = cache[n-2] + cache[n-3] + cache[n-4]\n",
    "        return cache[n-1]\n",
    "        \n",
    "dp(n)\n",
    "\n",
    "print(cache)"
   ]
  },
  {
   "cell_type": "code",
   "execution_count": null,
   "metadata": {},
   "outputs": [],
   "source": []
  }
 ],
 "metadata": {
  "kernelspec": {
   "display_name": "Python 3",
   "language": "python",
   "name": "python3"
  },
  "language_info": {
   "codemirror_mode": {
    "name": "ipython",
    "version": 3
   },
   "file_extension": ".py",
   "mimetype": "text/x-python",
   "name": "python",
   "nbconvert_exporter": "python",
   "pygments_lexer": "ipython3",
   "version": "3.6.5"
  }
 },
 "nbformat": 4,
 "nbformat_minor": 2
}
