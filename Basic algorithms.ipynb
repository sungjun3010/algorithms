{
 "cells": [
  {
   "cell_type": "markdown",
   "metadata": {},
   "source": [
    "## BFS, DFS"
   ]
  },
  {
   "cell_type": "code",
   "execution_count": 1,
   "metadata": {},
   "outputs": [
    {
     "name": "stdout",
     "output_type": "stream",
     "text": [
      "3 1 2 5 4 \n",
      "3 1 4 2 5 "
     ]
    }
   ],
   "source": [
    "from collections import defaultdict\n",
    "N, M, V = 5, 5, 3\n",
    "edges = [[5, 4], [5, 2], [1, 2], [3, 4], [3, 1]]\n",
    "visit_map = [False]*N\n",
    "dict_edge = defaultdict(set)\n",
    "for edge in edges:\n",
    "    dict_edge[edge[0]].add(edge[1])\n",
    "    dict_edge[edge[1]].add(edge[0])\n",
    "\n",
    "for key in dict_edge.keys():\n",
    "    dict_edge[key] = sorted(list(dict_edge[key]))\n",
    "    \n",
    "def BFS(vertex):\n",
    "    queue = []\n",
    "    queue.append(vertex)\n",
    "    visit_map[vertex-1] = True\n",
    "    while len(queue):\n",
    "        dequeue = queue[0]\n",
    "        del queue[0]\n",
    "        print(dequeue, end=' ')\n",
    "        for neigh in list(dict_edge[dequeue]):\n",
    "            if not visit_map[neigh-1]:\n",
    "                queue.append(neigh)\n",
    "                visit_map[neigh-1] = True\n",
    "                \n",
    "def DFS(vertex):\n",
    "    stack = []\n",
    "    stack.append(vertex)\n",
    "    while len(stack):\n",
    "        _pop = stack.pop()\n",
    "        if not visit_map[_pop-1]:\n",
    "            print(_pop, end=' ')\n",
    "            visit_map[_pop-1] = True\n",
    "        for neigh in reversed(list(dict_edge[_pop])):\n",
    "            if not visit_map[neigh-1]:\n",
    "                stack.append(neigh)\n",
    "DFS(V)\n",
    "print()\n",
    "visit_map = [False]*N\n",
    "BFS(V)"
   ]
  },
  {
   "cell_type": "markdown",
   "metadata": {},
   "source": [
    "## 순열, 조합"
   ]
  },
  {
   "cell_type": "code",
   "execution_count": 50,
   "metadata": {},
   "outputs": [],
   "source": [
    "an = [1,2,3]\n",
    "r = 3\n",
    "n = len(an)\n",
    "tr = [0]*r\n",
    "\n",
    "print_array = lambda: print([el for el in tr])\n",
    "\n",
    "def perm(arr, r, o):\n",
    "    for i in range(len(arr)):\n",
    "        if r == 1:\n",
    "            yield [arr[i]]\n",
    "        else:\n",
    "            if o:\n",
    "                for next in perm(arr, r-1,o):\n",
    "                    yield [arr[i]] + next\n",
    "            else:\n",
    "                for next in perm(arr[:i]+arr[i+1:], r-1,o):\n",
    "                    yield [arr[i]] + next\n",
    "\n",
    "\n",
    "def comb(arr, r, o):\n",
    "    for i in range(len(arr)):\n",
    "        if r == 1:\n",
    "            yield [arr[i]]\n",
    "        else:\n",
    "            if o:\n",
    "                for next in comb(arr[i:],r-1,o):\n",
    "                    yield [arr[i]]+next\n",
    "            else:\n",
    "                for next in comb(arr[i+1:],r-1,o):\n",
    "                    yield [arr[i]]+next   "
   ]
  },
  {
   "cell_type": "code",
   "execution_count": 53,
   "metadata": {},
   "outputs": [
    {
     "name": "stdout",
     "output_type": "stream",
     "text": [
      "[1, 2, 3], [1, 3, 2], [2, 1, 3], [2, 3, 1], [3, 1, 2], [3, 2, 1], \n",
      "\n",
      "[1, 1, 1], [1, 1, 2], [1, 1, 3], [1, 2, 1], [1, 2, 2], [1, 2, 3], [1, 3, 1], [1, 3, 2], [1, 3, 3], [2, 1, 1], [2, 1, 2], [2, 1, 3], [2, 2, 1], [2, 2, 2], [2, 2, 3], [2, 3, 1], [2, 3, 2], [2, 3, 3], [3, 1, 1], [3, 1, 2], [3, 1, 3], [3, 2, 1], [3, 2, 2], [3, 2, 3], [3, 3, 1], [3, 3, 2], [3, 3, 3], \n",
      "\n",
      "[1, 2, 3], \n",
      "\n",
      "[1, 1, 1], [1, 1, 2], [1, 1, 3], [1, 2, 2], [1, 2, 3], [1, 3, 3], [2, 2, 2], [2, 2, 3], [2, 3, 3], [3, 3, 3], "
     ]
    }
   ],
   "source": [
    "for permu in perm(an, r, o=False):#순열\n",
    "    print(permu, end=', ')#중복조합\n",
    "print()\n",
    "print()\n",
    "for permu in perm(an, r, o=True):#중복순열\n",
    "    print(permu, end=', ')#중복조합\n",
    "print()\n",
    "print()\n",
    "for combi in comb(an, r, o=False):#조합\n",
    "    print(combi, end=', ')#중복조합\n",
    "print()\n",
    "print()\n",
    "for combi in comb(an, r, o=True):#중복조합\n",
    "    print(combi, end=', ')#중복조합"
   ]
  },
  {
   "cell_type": "code",
   "execution_count": null,
   "metadata": {},
   "outputs": [],
   "source": []
  }
 ],
 "metadata": {
  "kernelspec": {
   "display_name": "Python 3",
   "language": "python",
   "name": "python3"
  },
  "language_info": {
   "codemirror_mode": {
    "name": "ipython",
    "version": 3
   },
   "file_extension": ".py",
   "mimetype": "text/x-python",
   "name": "python",
   "nbconvert_exporter": "python",
   "pygments_lexer": "ipython3",
   "version": "3.7.6"
  }
 },
 "nbformat": 4,
 "nbformat_minor": 2
}
