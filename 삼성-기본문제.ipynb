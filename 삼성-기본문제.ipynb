{
 "cells": [
  {
   "cell_type": "markdown",
   "metadata": {},
   "source": [
    "### 진수 문제\n",
    "- bin, oct, hex 기본 함수 활용하기\n",
    "- hex, oct간 변환은 bin을 거쳐서 하는게 좋을 듯\n",
    "- bin, oct, hex의 결과는 str"
   ]
  },
  {
   "cell_type": "code",
   "execution_count": 7,
   "metadata": {},
   "outputs": [
    {
     "name": "stdout",
     "output_type": "stream",
     "text": [
      "3\n",
      "4 47FE\n",
      "#1 0100011111111110\n",
      "5 79E12\n",
      "#2 01111001111000010010\n",
      "8 41DA16CD\n",
      "#3 01000001110110100001011011001101\n"
     ]
    }
   ],
   "source": [
    "# 5185\n",
    "num_case = int(input())\n",
    "\n",
    "def num16tonum2(num16):\n",
    "    if num16 == 'A':\n",
    "        num16 = 10\n",
    "    elif num16 == 'B':\n",
    "        num16 = 11\n",
    "    elif num16 == 'C':\n",
    "        num16 = 12\n",
    "    elif num16 == 'D':\n",
    "        num16 = 13\n",
    "    elif num16 == 'E':\n",
    "        num16 = 14\n",
    "    elif num16 == 'F':\n",
    "        num16 = 15\n",
    "    \n",
    "    num2 = bin(int(num16))[2:]\n",
    "    while len(num2) < 4:\n",
    "        num2 = '0'+num2\n",
    "    return num2\n",
    "\n",
    "\n",
    "for case in range(num_case):\n",
    "    len_num, num16 = input().split()\n",
    "    len_num = int(len_num)\n",
    "#     print(len_num)\n",
    "#     print(num16)\n",
    "    answer = f'#{case+1} '\n",
    "    for i in range(len_num):\n",
    "        answer += num16tonum2(num16[i])\n",
    "    print(answer)"
   ]
  },
  {
   "cell_type": "code",
   "execution_count": 8,
   "metadata": {},
   "outputs": [
    {
     "name": "stdout",
     "output_type": "stream",
     "text": [
      "3\n",
      "0\n",
      "#1 000000000000\n",
      "0.625\n",
      "#2 101\n",
      "0.1\n",
      "#3 overflow\n"
     ]
    }
   ],
   "source": [
    "# 5186\n",
    "num_case = int(input())\n",
    "\n",
    "for case in range(num_case):\n",
    "    answer = f'#{case+1} '\n",
    "    num = float(input())\n",
    "    for i in range(1, 13):\n",
    "        cand = 2**(-i)\n",
    "        if num >= cand:\n",
    "            num -= cand\n",
    "            answer += '1'\n",
    "            if num == 0.0:\n",
    "                break\n",
    "        else:\n",
    "            answer += '0'\n",
    "    if num != 0.0:\n",
    "        answer = f'#{case+1} overflow'\n",
    "    print(answer)"
   ]
  },
  {
   "cell_type": "markdown",
   "metadata": {},
   "source": [
    "### 완전검색 (순열, 조합)\n",
    "- 순열 (permutations)은 10개 이상의 원소에 대해서 모든 경우를 고려할 수 없음 (10이하면 itertools 활용)\n",
    "- 조합 (combinations)은 순서를 고려하지 않음, nCr = n-1Cr + n-1Cr-1 성질 있음\n",
    "\n",
    "\n",
    "- 중복 없는 순열\n",
    "    - from itertools import permutations\n",
    "- 중복 없는 조합\n",
    "    - from itertools import combinations\n",
    "- 중복 있는 순열 / 각 집단에서 추출\n",
    "    - from itertools import product\n",
    "- 중복 있는 조합\n",
    "    - from itertools import combinations_with_replacement as com"
   ]
  },
  {
   "cell_type": "code",
   "execution_count": 1,
   "metadata": {},
   "outputs": [
    {
     "data": {
      "text/plain": [
       "[(0, 0, 0),\n",
       " (0, 0, 1),\n",
       " (0, 1, 0),\n",
       " (0, 1, 1),\n",
       " (1, 0, 0),\n",
       " (1, 0, 1),\n",
       " (1, 1, 0),\n",
       " (1, 1, 1)]"
      ]
     },
     "execution_count": 1,
     "metadata": {},
     "output_type": "execute_result"
    }
   ],
   "source": [
    "from itertools import product\n",
    "\n",
    "list(product([0,1], repeat =3))"
   ]
  },
  {
   "cell_type": "code",
   "execution_count": 22,
   "metadata": {},
   "outputs": [
    {
     "name": "stdout",
     "output_type": "stream",
     "text": [
      "3\n",
      "3\n",
      "1 2 3\n",
      "2 3 4\n",
      "3 4 5\n",
      "#1 15\n",
      "4\n",
      "2 4 1 3\n",
      "1 1 7 1\n",
      "9 1 7 10\n",
      "5 7 2 4\n",
      "#2 18\n",
      "5\n",
      "6 7 1 10 2\n",
      "10 2 7 5 9\n",
      "9 3 2 9 6\n",
      "1 6 8 2 9\n",
      "8 3 8 2 1\n",
      "#3 33\n"
     ]
    }
   ],
   "source": [
    "# 5186\n",
    "num_case = int(input())\n",
    "\n",
    "global matrix_size\n",
    "global matrix\n",
    "global num_sum\n",
    "\n",
    "def get_min_sum(x, y):\n",
    "#     print(x,y)\n",
    "    if (x == matrix_size-1) & (y == matrix_size-1):\n",
    "        return matrix[x][y]\n",
    "    right_sum = num_sum\n",
    "    down_sum = num_sum\n",
    "    if y < matrix_size-1:\n",
    "        right_sum = get_min_sum(x, y+1)\n",
    "    if x < matrix_size-1:\n",
    "        down_sum = get_min_sum(x+1, y)\n",
    "    return min(right_sum, down_sum) + matrix[x][y]\n",
    "\n",
    "for case in range(num_case):\n",
    "    answer = f'#{case+1} '\n",
    "    matrix_size = int(input())\n",
    "    matrix = []\n",
    "    num_sum = 0\n",
    "    for i in range(matrix_size):\n",
    "        row = list(map(int,input().split()))\n",
    "        matrix.append(row)\n",
    "        num_sum += sum(row)\n",
    "    min_value = get_min_sum(0, 0)\n",
    "    answer += str(min_value)\n",
    "    \n",
    "    print(answer)"
   ]
  },
  {
   "cell_type": "code",
   "execution_count": 30,
   "metadata": {},
   "outputs": [
    {
     "name": "stdout",
     "output_type": "stream",
     "text": [
      "3\n",
      "3\n",
      "0 18 34\n",
      "48 0 55\n",
      "18 7 0\n",
      "#1 89\n",
      "4\n",
      "0 83 65 97\n",
      "82 0 78 6\n",
      "19 19 0 82\n",
      "6 34 94 0\n",
      "#2 96\n",
      "5\n",
      "0 9 26 85 42\n",
      "14 0 74 31 27\n",
      "58 88 0 16 46\n",
      "83 61 94 0 17\n",
      "40 71 24 38 0\n",
      "#3 139\n"
     ]
    }
   ],
   "source": [
    "# 5189\n",
    "\n",
    "from itertools import permutations as pm\n",
    "num_case = int(input())\n",
    "\n",
    "\n",
    "for case in range(num_case):\n",
    "    answer = f'#{case+1} '\n",
    "    matrix_size = int(input())\n",
    "    matrix = []\n",
    "    num_sum = 0\n",
    "    for i in range(matrix_size):\n",
    "        row = list(map(int,input().split()))\n",
    "        matrix.append(row)\n",
    "        num_sum += sum(row)\n",
    "        \n",
    "    min_value = num_sum\n",
    "    for perm in pm(list(range(1,matrix_size))):\n",
    "        tmp_sum = matrix[0][perm[0]]\n",
    "        for i in range(len(perm)-1):\n",
    "            tmp_sum += matrix[perm[i]][perm[i+1]] \n",
    "        tmp_sum += matrix[perm[-1]][0]\n",
    "        if min_value > tmp_sum:\n",
    "            min_value = tmp_sum\n",
    "    answer += str(min_value)\n",
    "    \n",
    "    print(answer)"
   ]
  },
  {
   "cell_type": "markdown",
   "metadata": {},
   "source": [
    "### 탐욕 알고리즘\n",
    "- 적용전, 탐욕적인 방법으로 최적해를 구할 수 있는지 확인 필수!\n",
    "- 거스름돈 문제\n",
    "    - 완전 탐색 필요\n",
    "- knapsack 문제\n",
    "    - 0-1 knapsack: 완전 탐색 필요\n",
    "    - fractional kanpsack: 탐욕적인 방법 적용 가능 (가성비 높은 순으로)\n",
    "- 활동 선택 문제\n",
    "    - 탐욕적 방법 적용 가능\n",
    "    - 종료 시간순으로 정렬 후 종료 시간이 빠른 순서로 안겹치게 선택\n",
    "- baby-gin 문제\n",
    "    - counting sort처럼 값 별 빈도수를 저장한 배열을 활용하면 풀 수 있음 "
   ]
  },
  {
   "cell_type": "code",
   "execution_count": null,
   "metadata": {},
   "outputs": [],
   "source": [
    "# 5201\n",
    "num_case = int(input())\n",
    "\n",
    "for case in range(num_case):\n",
    "    N, M = list(map(int,input().split()))\n",
    "    containers = list(map(int,input().split()))\n",
    "    trucks = list(map(int,input().split()))\n",
    "    answer = f'#{case+1} '\n",
    "    \n",
    "    containers.sort(reverse=True)\n",
    "    trucks.sort(reverse=True)\n",
    "    \n",
    "    value = 0\n",
    "    for container in containers:\n",
    "        if container > trucks[0]:\n",
    "            continue\n",
    "        else:\n",
    "            value += container\n",
    "            del trucks[0]\n",
    "            if len(trucks) == 0:\n",
    "                break\n",
    "    \n",
    "    print(answer+str(value))"
   ]
  },
  {
   "cell_type": "code",
   "execution_count": 1,
   "metadata": {},
   "outputs": [
    {
     "name": "stdout",
     "output_type": "stream",
     "text": [
      "1\n",
      "5\n",
      "20 23\n",
      "17 20\n",
      "23 24\n",
      "4 14\n",
      "8 18\n",
      "#1 4\n"
     ]
    }
   ],
   "source": [
    "# 5202\n",
    "num_case = int(input())\n",
    "\n",
    "for case in range(num_case):\n",
    "    N = int(input())\n",
    "    times = []\n",
    "    for _ in range(N):\n",
    "        times.append(list(map(int,input().split())))\n",
    "    answer = f'#{case+1} '\n",
    "    \n",
    "    times.sort(key = lambda x: x[1])\n",
    "    value = 1\n",
    "    curr_end_time = times[0][1]\n",
    "    for time in times[1:]:\n",
    "        if time[0] >= curr_end_time:\n",
    "            value += 1\n",
    "            curr_end_time = time[1]\n",
    "    \n",
    "    print(answer+str(value))"
   ]
  },
  {
   "cell_type": "code",
   "execution_count": null,
   "metadata": {},
   "outputs": [],
   "source": []
  }
 ],
 "metadata": {
  "kernelspec": {
   "display_name": "Python 3",
   "language": "python",
   "name": "python3"
  },
  "language_info": {
   "codemirror_mode": {
    "name": "ipython",
    "version": 3
   },
   "file_extension": ".py",
   "mimetype": "text/x-python",
   "name": "python",
   "nbconvert_exporter": "python",
   "pygments_lexer": "ipython3",
   "version": "3.7.6"
  }
 },
 "nbformat": 4,
 "nbformat_minor": 2
}
