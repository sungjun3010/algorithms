{
 "cells": [
  {
   "cell_type": "markdown",
   "metadata": {},
   "source": [
    "### 2020-1차"
   ]
  },
  {
   "cell_type": "code",
   "execution_count": 5,
   "metadata": {},
   "outputs": [
    {
     "name": "stdout",
     "output_type": "stream",
     "text": [
      "5 3\n",
      "-1\n"
     ]
    }
   ],
   "source": [
    "_input = list(map(int,input().split()))\n",
    "\n",
    "n = _input[0]\n",
    "k = _input[1]\n",
    "\n",
    "thr = k*(k+1)/2\n",
    "\n",
    "if n < thr:\n",
    "    print(-1)\n",
    "elif n == thr:\n",
    "    print(k-1)\n",
    "else:\n",
    "    n -= thr\n",
    "    mod = n % k\n",
    "    if mod == 0:\n",
    "        print(k-1)\n",
    "    else:\n",
    "        print(k)"
   ]
  },
  {
   "cell_type": "code",
   "execution_count": 22,
   "metadata": {},
   "outputs": [
    {
     "name": "stdout",
     "output_type": "stream",
     "text": [
      "1\n",
      "35\n",
      "0 3 0 5 0\n"
     ]
    }
   ],
   "source": [
    "num_case = int(input())\n",
    "\n",
    "control = [60, 10, -10, 1, -1]\n",
    "\n",
    "for _ in range(num_case):\n",
    "    question = int(input())\n",
    "    answer = [0]*5\n",
    "    \n",
    "    curr = 0\n",
    "    \n",
    "    if question >= 60:\n",
    "        share = question // 60\n",
    "        question %= 60\n",
    "        answer[0] = share\n",
    "    \n",
    "    while curr != question:\n",
    "        gap = question-curr\n",
    "            \n",
    "        tmp_min = 100000000\n",
    "        idx = -1\n",
    "        for i in range(len(control)):\n",
    "            tmp_gap = gap - control[i]\n",
    "            if tmp_gap == 0:\n",
    "                idx = i\n",
    "                break\n",
    "            elif tmp_gap < 0:\n",
    "                tmp_gap = -tmp_gap\n",
    "                      \n",
    "            if tmp_gap <= tmp_min:\n",
    "                tmp_min = tmp_gap\n",
    "                idx = i\n",
    "        curr += control[idx]\n",
    "        answer[idx] += 1\n",
    "        if curr < 0:\n",
    "            curr = 0\n",
    "\n",
    "    print(answer[0],answer[1],answer[2],answer[3],answer[4])"
   ]
  },
  {
   "cell_type": "markdown",
   "metadata": {},
   "source": [
    "### 2019-2차"
   ]
  },
  {
   "cell_type": "code",
   "execution_count": 6,
   "metadata": {},
   "outputs": [
    {
     "name": "stdout",
     "output_type": "stream",
     "text": [
      "36\n",
      "18\n"
     ]
    }
   ],
   "source": [
    "N = int(input())\n",
    "\n",
    "set369 = set(['3','6','9'])\n",
    "cnt = 0\n",
    "for i in range(1,N+1):\n",
    "    i = str(i)\n",
    "    for c in i:\n",
    "        if c in set369:\n",
    "            cnt += 1\n",
    "print(cnt)"
   ]
  },
  {
   "cell_type": "code",
   "execution_count": 33,
   "metadata": {},
   "outputs": [
    {
     "name": "stdout",
     "output_type": "stream",
     "text": [
      "7\n",
      "RRRBBBR\n",
      "1\n",
      "3\n",
      "1\n"
     ]
    }
   ],
   "source": [
    "N = int(input())\n",
    "ball_arr = [int(x=='R') for x in input()]\n",
    "\n",
    "\n",
    "if sum(ball_arr) in [0, N]:\n",
    "    print(0)\n",
    "else:\n",
    "    ch = 0\n",
    "    for idx in range(len(ball_arr)-1):\n",
    "        if ball_arr[idx] !=  ball_arr[idx+1]:\n",
    "            ch += 1\n",
    "            if ch == 2:\n",
    "                break\n",
    "    if ch <= 1:\n",
    "        print(0)\n",
    "    else:\n",
    "        first_ball = ball_arr[0]\n",
    "        first_num = 0\n",
    "        for ball in ball_arr:\n",
    "            if ball == first_ball:\n",
    "                first_num += 1\n",
    "            else:\n",
    "                break\n",
    "                \n",
    "        last_ball = ball_arr[-1]\n",
    "        last_num = 0\n",
    "        for ball in ball_arr[::-1]:\n",
    "            if ball == last_ball:\n",
    "                last_num += 1\n",
    "            else:\n",
    "                break\n",
    "                \n",
    "        num_R = ball_arr.count(1)\n",
    "        num_B = ball_arr.count(0)\n",
    "\n",
    "        if first_ball == 1:\n",
    "            tmp_num_R = num_R - first_num\n",
    "            if tmp_num_R >= num_B:\n",
    "                cand1 = num_B\n",
    "            else:\n",
    "                cand1 = tmp_num_R\n",
    "        else:\n",
    "            tmp_num_B = num_B - first_num\n",
    "            if num_R >= tmp_num_B:\n",
    "                cand1 = tmp_num_B\n",
    "            else:\n",
    "                cand1 = num_R\n",
    "                \n",
    "        if last_ball:\n",
    "            tmp_num_R = num_R - last_num\n",
    "            if tmp_num_R >= num_B:\n",
    "                cand2 = num_B\n",
    "            else:\n",
    "                cand2 = tmp_num_R\n",
    "        else:\n",
    "            tmp_num_B = num_B - last_num\n",
    "            if num_R >= tmp_num_B:\n",
    "                cand2 = tmp_num_B\n",
    "            else:\n",
    "                cand2 = num_R\n",
    "        print(min(cand1, cand2))\n",
    "        "
   ]
  },
  {
   "cell_type": "code",
   "execution_count": 36,
   "metadata": {},
   "outputs": [
    {
     "name": "stdout",
     "output_type": "stream",
     "text": [
      "5 4 1\n",
      "1 2\n",
      "2 3\n",
      "3 4\n",
      "4 5\n"
     ]
    },
    {
     "data": {
      "text/plain": [
       "[[1, 2], [2, 3], [3, 4], [4, 5]]"
      ]
     },
     "execution_count": 36,
     "metadata": {},
     "output_type": "execute_result"
    }
   ],
   "source": [
    "# N, M, X = list(map(int,input().split()))\n",
    "\n",
    "# info = [list(map(int,input().split())) for _ in range(M)]\n",
    "\n",
    "\n",
    "N, M, X = 5, 4, 1\n",
    "\n",
    "infos = [[1, 2], [2, 3], [3, 4], [4, 5]]\n",
    "\n",
    "scores = [-1]*N\n",
    "\n",
    "for info in infos:\n",
    "    sup = info[0]-1\n",
    "    pri = info[1]-1\n",
    "\n",
    "    \n",
    "        \n",
    "\n"
   ]
  },
  {
   "cell_type": "code",
   "execution_count": null,
   "metadata": {},
   "outputs": [],
   "source": []
  }
 ],
 "metadata": {
  "kernelspec": {
   "display_name": "Python 3",
   "language": "python",
   "name": "python3"
  },
  "language_info": {
   "codemirror_mode": {
    "name": "ipython",
    "version": 3
   },
   "file_extension": ".py",
   "mimetype": "text/x-python",
   "name": "python",
   "nbconvert_exporter": "python",
   "pygments_lexer": "ipython3",
   "version": "3.7.1"
  }
 },
 "nbformat": 4,
 "nbformat_minor": 4
}
